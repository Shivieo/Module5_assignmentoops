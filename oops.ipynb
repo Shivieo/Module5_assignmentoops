{
 "cells": [
  {
   "cell_type": "code",
   "execution_count": 1,
   "metadata": {},
   "outputs": [],
   "source": [
    "#Question1. What are the five key concepts of Object Oriented Programming (OOP)?"
   ]
  },
  {
   "cell_type": "code",
   "execution_count": 2,
   "metadata": {},
   "outputs": [
    {
     "data": {
      "text/plain": [
       "'Answer1. Object Oriented Programming is a technique to write a code in clean and neat way. That means arrangement of functions in a class that is for a particular task.\\nWe have several concepts of Object oriented programming in python: We discuss five of them.\\n1. Class and Object: Classes are blueprint or template of objects. Class has properties or methods or attributes that can be used by making object of it. That means object is a way to access the particular class. That\\'s why object is instance of class.\\n2. Inheritance: In python, A class can inherit the methods of other class. That means a class can have same method as that it inherits from. Here other class is known as parent or base class and the class which inherits called child or derived class. We have 5 types of Inheritance in python:\\n    1. Single Inheritance: One parent and one child class\\n    2. Multi level Inheritance: One parent has a derived class and that derived class has also a derived class and becomes parent of that derived class.\\n    3. Multiple Inheritance: One derived class has more than one base class.\\n    4. Hierarchical Inheritance: One parent class has more than one derived classes.\\n    5. Hybrid Inheritance: Multiple types or combination of different parent and child class.\\n3. Polymorphism: Poly means many morphism means forms that means many forms. It is a property of an object that allows it to take many forms. For example: \"Pw\"+\"skills\" shows concatenation and 6+2 shows addition property.\\n4.Encapsulation: It means binding up of data in a single class. In python, we have all keywords public. \\nSo, to make it private or avoid using it directly we use __(double underscore) before the variable name and _(single underscore) for protected. \\n5. Abstraction: It\\'s a way to hide the complex entities or implementation from user by making abstract class. An abstract class can\\'t be instantiated or we can\\'t make object. So, It is subclassed or make base class for a class which will be instantiated. \\n\\n'"
      ]
     },
     "execution_count": 2,
     "metadata": {},
     "output_type": "execute_result"
    }
   ],
   "source": [
    "'''Answer1. Object Oriented Programming is a technique to write a code in clean and neat way. That means arrangement of functions in a class that is for a particular task.\n",
    "We have several concepts of Object oriented programming in python: We discuss five of them.\n",
    "1. Class and Object: Classes are blueprint or template of objects. Class has properties or methods or attributes that can be used by making object of it. That means object is a way to access the particular class. That's why object is instance of class.\n",
    "2. Inheritance: In python, A class can inherit the methods of other class. That means a class can have same method as that it inherits from. Here other class is known as parent or base class and the class which inherits called child or derived class. We have 5 types of Inheritance in python:\n",
    "    1. Single Inheritance: One parent and one child class\n",
    "    2. Multi level Inheritance: One parent has a derived class and that derived class has also a derived class and becomes parent of that derived class.\n",
    "    3. Multiple Inheritance: One derived class has more than one base class.\n",
    "    4. Hierarchical Inheritance: One parent class has more than one derived classes.\n",
    "    5. Hybrid Inheritance: Multiple types or combination of different parent and child class.\n",
    "3. Polymorphism: Poly means many morphism means forms that means many forms. It is a property of an object that allows it to take many forms. For example: \"Pw\"+\"skills\" shows concatenation and 6+2 shows addition property.\n",
    "4.Encapsulation: It means binding up of data in a single class. In python, we have all keywords public. \n",
    "So, to make it private or avoid using it directly we use __(double underscore) before the variable name and _(single underscore) for protected. \n",
    "5. Abstraction: It's a way to hide the complex entities or implementation from user by making abstract class. An abstract class can't be instantiated or we can't make object. So, It is subclassed or make base class for a class which will be instantiated. \n",
    "\n",
    "'''"
   ]
  },
  {
   "cell_type": "code",
   "execution_count": 3,
   "metadata": {},
   "outputs": [],
   "source": [
    "#Question2. Write a python class for a 'car' with attributes for 'make', 'model' and 'year'. Include a method to display the car's information."
   ]
  },
  {
   "cell_type": "code",
   "execution_count": 4,
   "metadata": {},
   "outputs": [
    {
     "data": {
      "text/plain": [
       "\"Answer2 \\nWe have different ways to do this question. So, I'm using private method in next cell\""
      ]
     },
     "execution_count": 4,
     "metadata": {},
     "output_type": "execute_result"
    }
   ],
   "source": [
    "'''Answer2 \n",
    "We have different ways to do this question. So, I'm using private method in next cell'''"
   ]
  },
  {
   "cell_type": "code",
   "execution_count": 6,
   "metadata": {},
   "outputs": [],
   "source": [
    "class Car:\n",
    "    def __init__(self,make, model, year):\n",
    "        self.__make = make\n",
    "        self.__model = model\n",
    "        self.__year = year\n",
    "    \n",
    "    def access(self):\n",
    "        print(\"Make -\",self.__make, \" Model -\",self.__model, \" Year -\",self.__year) #indirect way to access"
   ]
  },
  {
   "cell_type": "code",
   "execution_count": 7,
   "metadata": {},
   "outputs": [
    {
     "name": "stdout",
     "output_type": "stream",
     "text": [
      "Make - BMW  Model - AMG SL63  Year - 2019\n"
     ]
    }
   ],
   "source": [
    "# here we make object and access its private variable indirectly\n",
    "c1 = Car(\"BMW\", \"AMG SL63\", \"2019\")\n",
    "c1.access()"
   ]
  },
  {
   "cell_type": "code",
   "execution_count": 8,
   "metadata": {},
   "outputs": [],
   "source": [
    "#Question3. Explain the difference between instance methods and class methods. Provide an example of each."
   ]
  },
  {
   "cell_type": "code",
   "execution_count": 9,
   "metadata": {},
   "outputs": [
    {
     "data": {
      "text/plain": [
       "'Naman'"
      ]
     },
     "execution_count": 9,
     "metadata": {},
     "output_type": "execute_result"
    }
   ],
   "source": [
    "'''Answer3\n",
    "Instance Method: It is a method that requires a regular class to make object of it then access that class's methods. In this method, self is used as parameter inside methods. Without self, we can't access the variable that is declared inside a method ie., for name to modify, we use self.name\n",
    "\n",
    "Class Method: This class method doesn't require any instance to access the methods inside class but we can take instance as well to access. Though, class method is independent of instances. It uses cls parameter inside methods and also @classmethod as decorator. Class method can modify class state applicable to all the instances of the class. \n",
    "Now, we take examples of both in same class. '''\n",
    "\n",
    "class Student:\n",
    "    def __init__(self, name): #init method is an instance method\n",
    "        self.name = name \n",
    "    \n",
    "    @classmethod \n",
    "    def student_details(cls, name1): # class method\n",
    "        return cls(name1)\n",
    "    \n",
    "stud = Student.student_details(\"Naman\")\n",
    "stud.name"
   ]
  },
  {
   "cell_type": "code",
   "execution_count": 10,
   "metadata": {},
   "outputs": [],
   "source": [
    "#Question4. How does python implement method overloading? Give an example."
   ]
  },
  {
   "cell_type": "code",
   "execution_count": 11,
   "metadata": {},
   "outputs": [
    {
     "name": "stdout",
     "output_type": "stream",
     "text": [
      "Wecome to pwskills class  \n",
      "Wecome to pwskills class Abhay DS\n"
     ]
    }
   ],
   "source": [
    "'''Answer4. \n",
    "Method overloading: Python doesn't support method overloading in traditional way. However, if we define multiple methods with same variable then the last one over rides the previous ones. But we can take an example where we add different variables with same method name'''\n",
    "class Student:\n",
    "    def student(self):\n",
    "        print(\"Wecome to pwskills class\")\n",
    "    def student(self, name = \"\"):\n",
    "        print(\"Wecome to pwskills class\", name)\n",
    "    def student(self, name = \"\", course = \"\"):\n",
    "        print(\"Wecome to pwskills class\", name, course)\n",
    "\n",
    "stud = Student()\n",
    "stud.student()\n",
    "stud.student(\"Abhay\", \"DS\")\n"
   ]
  },
  {
   "cell_type": "code",
   "execution_count": 12,
   "metadata": {},
   "outputs": [],
   "source": [
    "#Question5. What are the three types of access modifiers in Python? How are they denoted?"
   ]
  },
  {
   "cell_type": "code",
   "execution_count": 13,
   "metadata": {},
   "outputs": [
    {
     "data": {
      "text/plain": [
       "'Answer5. \\nAccess modifiers are the terms under Encapsulation in Python.  The three access modifiers are:\\nPublic, Private and Protected\\nPublic: By default writing style of a method comes under public access modifier. It can be modified every where. They are denoted like def show(): here show method is a public method.\\nPrivate: The data and methods are only accessible within the class it is defined, not outside directly but indirectly can access. Denoted by (__) before variable or method.\\nProtected: It is accessible within the class or subclass of the same class. Denoted by (_) before variable or method.'"
      ]
     },
     "execution_count": 13,
     "metadata": {},
     "output_type": "execute_result"
    }
   ],
   "source": [
    "'''Answer5. \n",
    "Access modifiers are the terms under Encapsulation in Python.  The three access modifiers are:\n",
    "Public, Private and Protected\n",
    "Public: By default writing style of a method comes under public access modifier. It can be modified every where. They are denoted like def show(): here show method is a public method.\n",
    "Private: The data and methods are only accessible within the class it is defined, not outside directly but indirectly can access. Denoted by (__) before variable or method.\n",
    "Protected: It is accessible within the class or subclass of the same class. Denoted by (_) before variable or method.'''"
   ]
  },
  {
   "cell_type": "code",
   "execution_count": 14,
   "metadata": {},
   "outputs": [],
   "source": [
    "#Question6. Describe the five types of inheritance in Python. Provide a simple example of multiple inheritance."
   ]
  },
  {
   "cell_type": "code",
   "execution_count": 15,
   "metadata": {},
   "outputs": [],
   "source": [
    "'''Answer6.\n",
    "Inheritance: In python, A class can inherit the methods of other class. That means a class can have same method as that it inherits from. Here other class is known as parent or base class and the class which inherits called child or derived class. We have 5 types of Inheritance in python:\n",
    "    1. Single Inheritance: One parent and one child class\n",
    "    2. Multi level Inheritance: One parent has a derived class and that derived class has also a derived class and becomes parent of that derived class.\n",
    "    3. Multiple Inheritance: One derived class has more than one base class.\n",
    "    4. Hierarchical Inheritance: One parent class has more than one derived classes.\n",
    "    5. Hybrid Inheritance: Multiple types or combination of different parent and child class.\n",
    "    Example of multiple inheritance:'''\n",
    "#Example of multiple inheritance\n",
    "class ParentClass1:\n",
    "    def method_1(self):\n",
    "        print(\"method 1 of parent class 1\")\n",
    "class ParentClass2:\n",
    "    def method_2(self):\n",
    "        print(\"method2 of parent class 2\")\n",
    "class ChildClass(ParentClass1, ParentClass2):\n",
    "    def method(self):\n",
    "        print(\"method of child class\")"
   ]
  },
  {
   "cell_type": "code",
   "execution_count": 16,
   "metadata": {},
   "outputs": [],
   "source": [
    "#Question7. What is the Method Resolution Order (MRO) in Python. How can you retrieve it programmatically?"
   ]
  },
  {
   "cell_type": "code",
   "execution_count": 17,
   "metadata": {},
   "outputs": [
    {
     "name": "stdout",
     "output_type": "stream",
     "text": [
      "method 1 of parent class 1\n"
     ]
    }
   ],
   "source": [
    "'''Answer7. \n",
    "Python uses Method Resolution Order (MRO) algorithm called C3 linearlization. That means the class that is inherited first in derived class, their method will be executed if method is same in base classes. '''\n",
    "class ParentClass1:\n",
    "    def method_par(self):\n",
    "        print(\"method 1 of parent class 1\")\n",
    "class ParentClass2:\n",
    "    def method_par(self):\n",
    "        print(\"method2 of parent class 2\")\n",
    "class ChildClass(ParentClass1, ParentClass2):\n",
    "    def method(self):\n",
    "        print(\"method of child class\")\n",
    "\n",
    "child = ChildClass()\n",
    "child.method_par()"
   ]
  },
  {
   "cell_type": "code",
   "execution_count": 18,
   "metadata": {},
   "outputs": [],
   "source": [
    "# Question8.  Create an abstract base class `Shape` with an abstract method `area()`. Then create two subclasses `Circle` and `Rectangle` that implement the `area()` method."
   ]
  },
  {
   "cell_type": "code",
   "execution_count": 19,
   "metadata": {},
   "outputs": [
    {
     "data": {
      "text/plain": [
       "'Area of rectange is len*breadth'"
      ]
     },
     "execution_count": 19,
     "metadata": {},
     "output_type": "execute_result"
    }
   ],
   "source": [
    "'''Answer8.'''\n",
    "from abc import ABC, abstractmethod\n",
    "\n",
    "\n",
    "class Shape(ABC):\n",
    "    @abstractmethod\n",
    "    def calculate_area(self):\n",
    "        pass\n",
    "\n",
    "class Rectangle(Shape):\n",
    "    def calculate_area(self):\n",
    "        return \"Area of rectange is len*breadth\"\n",
    "class Circle(Shape):\n",
    "    def calculate_area(self): \n",
    "        return \"area of circle is pi r **2\"\n",
    "    \n",
    "area = Rectangle()\n",
    "area.calculate_area()"
   ]
  },
  {
   "cell_type": "code",
   "execution_count": 20,
   "metadata": {},
   "outputs": [],
   "source": [
    "#Question9. Demonstrate polymorphism by creating a function that can work with different shape objects to calculate and print their areas."
   ]
  },
  {
   "cell_type": "code",
   "execution_count": 21,
   "metadata": {},
   "outputs": [
    {
     "name": "stdout",
     "output_type": "stream",
     "text": [
      "20\n"
     ]
    },
    {
     "data": {
      "text/plain": [
       "78.5"
      ]
     },
     "execution_count": 21,
     "metadata": {},
     "output_type": "execute_result"
    }
   ],
   "source": [
    "'''Answer9.'''\n",
    "class Shape:\n",
    "    def area(self):\n",
    "        pass\n",
    "class Circle(Shape):\n",
    "    def __init__(self, radius):\n",
    "        self.radius = radius\n",
    "    def area(self):\n",
    "        return 3.14*self.radius**2\n",
    "class Rectangle(Shape):\n",
    "    def __init__(self, length, bredth):\n",
    "        self.length = length\n",
    "        self.bredth = bredth\n",
    "    def area(self):\n",
    "        return self.length*self.bredth\n",
    "\n",
    "rect = Rectangle(4,5)   \n",
    "print(rect.area())\n",
    "cir = Circle(5)\n",
    "cir.area()"
   ]
  },
  {
   "cell_type": "code",
   "execution_count": 22,
   "metadata": {},
   "outputs": [],
   "source": [
    "# Question10.  Implement encapsulation in a `BankAccount` class with private attributes for `balance` and `account_number`. Include methods for deposit, withdrawal, and balance inquiry."
   ]
  },
  {
   "cell_type": "code",
   "execution_count": 23,
   "metadata": {},
   "outputs": [
    {
     "data": {
      "text/plain": [
       "7000"
      ]
     },
     "execution_count": 23,
     "metadata": {},
     "output_type": "execute_result"
    }
   ],
   "source": [
    "'''Answer10.'''\n",
    "class BankAccount:\n",
    "    def __init__(self, balance, account_number):\n",
    "        self.__balance = balance\n",
    "        self.__account_number = account_number\n",
    "    def deposit(self, amount):\n",
    "        self.__balance = self.__balance + amount\n",
    "    def withdrawal(self, amount):\n",
    "        if self.__balance >= amount:\n",
    "            self.__balance = self.__balance - amount\n",
    "            return True\n",
    "        else:\n",
    "            return False\n",
    "    def balance_inquiry(self):\n",
    "        return self.__balance\n",
    "    \n",
    "shiva = BankAccount(5000, 2414101285000100)\n",
    "shiva.deposit(3000)\n",
    "shiva.balance_inquiry()\n",
    "shiva.withdrawal(1000)\n",
    "shiva.balance_inquiry()"
   ]
  },
  {
   "cell_type": "code",
   "execution_count": 24,
   "metadata": {},
   "outputs": [],
   "source": [
    "#Question11. Write a class that overrides the `__str__` and `__add__` magic methods. What will these methods allow you to do?"
   ]
  },
  {
   "cell_type": "code",
   "execution_count": 25,
   "metadata": {},
   "outputs": [
    {
     "name": "stdout",
     "output_type": "stream",
     "text": [
      "100\n",
      "The value is 45\n"
     ]
    },
    {
     "data": {
      "text/plain": [
       "\"__str__ allows string representation of object's data.\\n__add__ this method is called when we use + operator between two objects. It allows to perform addition between two objects and returns a new object of that class with its sum value.\""
      ]
     },
     "execution_count": 25,
     "metadata": {},
     "output_type": "execute_result"
    }
   ],
   "source": [
    "'''Answer11.'''\n",
    "class MyClass:\n",
    "    def __init__(self, value):\n",
    "        self.value = value\n",
    "\n",
    "    def __str__(self):\n",
    "        return f\"The value is {self.value}\"\n",
    "\n",
    "    def __add__(self, other):\n",
    "        return self.value + other.value\n",
    "    \n",
    "ob1 = MyClass(45)\n",
    "ob2 = MyClass(55)\n",
    "result = ob1 + ob2\n",
    "print(result)\n",
    "print(ob1)\n",
    "'''__str__ allows string representation of object's data.\n",
    "__add__ this method is called when we use + operator between two objects. It allows to perform addition between two objects and returns a new object of that class with its sum value.'''"
   ]
  },
  {
   "cell_type": "code",
   "execution_count": 26,
   "metadata": {},
   "outputs": [],
   "source": [
    "#Question12. Create a decorator that measures and prints the execution time of a function."
   ]
  },
  {
   "cell_type": "code",
   "execution_count": 27,
   "metadata": {},
   "outputs": [
    {
     "name": "stdout",
     "output_type": "stream",
     "text": [
      "1100000000\n",
      "The time for executing the code 0.0\n"
     ]
    }
   ],
   "source": [
    "'''Answer12.'''\n",
    "import time\n",
    "def timer_decorator(func):\n",
    "    def timer():\n",
    "        start = time.time()\n",
    "        func()\n",
    "        end = time.time()\n",
    "        print(\"The time for executing the code\", end-start)\n",
    "    return timer\n",
    "\n",
    "@timer_decorator\n",
    "def func_test():\n",
    "    print(1100000*1000)\n",
    "\n",
    "func_test()"
   ]
  },
  {
   "cell_type": "code",
   "execution_count": 28,
   "metadata": {},
   "outputs": [],
   "source": [
    "#Question13. Explain the concept of the Diamond Problem in multiple inheritance. How does Python resolve it?"
   ]
  },
  {
   "cell_type": "code",
   "execution_count": 29,
   "metadata": {},
   "outputs": [
    {
     "data": {
      "text/plain": [
       "'Answer13.\\nDiamond Problem occurs when a class inherits from 2 or more than 2 class>> will lead to ambiguity in execution of methods. Python uses Method Resolution Order(MRO) algorithm called c3 linearization to resolve diamond problem.That means the class that is inherited first in derived class, their method will be executed if method is same in base classes.'"
      ]
     },
     "execution_count": 29,
     "metadata": {},
     "output_type": "execute_result"
    }
   ],
   "source": [
    "'''Answer13.\n",
    "Diamond Problem occurs when a class inherits from 2 or more than 2 class>> will lead to ambiguity in execution of methods. Python uses Method Resolution Order(MRO) algorithm called c3 linearization to resolve diamond problem.That means the class that is inherited first in derived class, their method will be executed if method is same in base classes.'''"
   ]
  },
  {
   "cell_type": "code",
   "execution_count": 30,
   "metadata": {},
   "outputs": [],
   "source": [
    "#Question14. Write a class method that keeps track of the number of instances created from a class."
   ]
  },
  {
   "cell_type": "code",
   "execution_count": 31,
   "metadata": {},
   "outputs": [
    {
     "data": {
      "text/plain": [
       "2"
      ]
     },
     "execution_count": 31,
     "metadata": {},
     "output_type": "execute_result"
    }
   ],
   "source": [
    "'''Answer14.'''\n",
    "class Student:\n",
    "    \n",
    "    total_students = 0\n",
    "    def __init__(self, name):\n",
    "        self.name = name \n",
    "        Student.total_students = Student.total_students+1 \n",
    "        \n",
    "    @classmethod\n",
    "    def get_total_students(cls):\n",
    "        return cls.total_students\n",
    "'''here we are creating and tracking'''\n",
    "std1 = Student(\"Ajay\")\n",
    "std2 = Student(\"Bijay\")\n",
    "Student.get_total_students()"
   ]
  },
  {
   "cell_type": "code",
   "execution_count": 32,
   "metadata": {},
   "outputs": [],
   "source": [
    "#Question15. Implement a static method in a class that checks if a given year is a leap year."
   ]
  },
  {
   "cell_type": "code",
   "execution_count": 33,
   "metadata": {},
   "outputs": [
    {
     "data": {
      "text/plain": [
       "'2024 is a leap year'"
      ]
     },
     "execution_count": 33,
     "metadata": {},
     "output_type": "execute_result"
    }
   ],
   "source": [
    "'''Answer15. \n",
    "'''\n",
    "class LeapYear:\n",
    "    @staticmethod\n",
    "    def year(year):\n",
    "        if(year % 100 == 0):\n",
    "            if(year % 400 == 0):\n",
    "                return f\"{year} is a leap year\"\n",
    "            else:\n",
    "                return f\"{year} is not a leap year\"\n",
    "        elif(year % 4 == 0):\n",
    "            return f\"{year} is a leap year\"\n",
    "        else: \n",
    "            return f\"{year} is not a leap year\"\n",
    "        \n",
    "LeapYear.year(2024)"
   ]
  }
 ],
 "metadata": {
  "kernelspec": {
   "display_name": "Python 3",
   "language": "python",
   "name": "python3"
  },
  "language_info": {
   "codemirror_mode": {
    "name": "ipython",
    "version": 3
   },
   "file_extension": ".py",
   "mimetype": "text/x-python",
   "name": "python",
   "nbconvert_exporter": "python",
   "pygments_lexer": "ipython3",
   "version": "3.12.5"
  }
 },
 "nbformat": 4,
 "nbformat_minor": 2
}
